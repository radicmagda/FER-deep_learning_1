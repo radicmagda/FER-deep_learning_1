{
 "cells": [
  {
   "cell_type": "code",
   "execution_count": 2,
   "metadata": {},
   "outputs": [],
   "source": [
    "import numpy as np"
   ]
  },
  {
   "cell_type": "code",
   "execution_count": 4,
   "metadata": {},
   "outputs": [
    {
     "name": "stdout",
     "output_type": "stream",
     "text": [
      "[1 1 1 1 1]\n",
      "(5,)\n",
      "[[ 2  3  4  5  6]\n",
      " [ 7  8  9 10 11]\n",
      " [12 13 14 15 16]]\n"
     ]
    }
   ],
   "source": [
    "bias=np.array([1,1,1,1,1])\n",
    "print(bias)\n",
    "print(bias.shape)\n",
    "\n",
    "matrix=np.array([[1, 2, 3, 4, 5], \n",
    "                 [6,7, 8,9, 10], \n",
    "                 [11, 12, 13, 14, 15]])\n",
    "res=matrix+bias\n",
    "print(res)"
   ]
  },
  {
   "cell_type": "code",
   "execution_count": 9,
   "metadata": {},
   "outputs": [
    {
     "name": "stdout",
     "output_type": "stream",
     "text": [
      "abs\n"
     ]
    }
   ],
   "source": [
    "inputs=np.random.randn(50, 1, 28, 28)\n",
    "lista=[]\n",
    "lista+=[\"kdjf\"]\n",
    "lista+=[\"kdjf\"]\n",
    "lista+=[\"kdjf\"]\n",
    "lista+=[\"abs\"]\n",
    "print(lista[-1])"
   ]
  }
 ],
 "metadata": {
  "kernelspec": {
   "display_name": "Python 3",
   "language": "python",
   "name": "python3"
  },
  "language_info": {
   "codemirror_mode": {
    "name": "ipython",
    "version": 3
   },
   "file_extension": ".py",
   "mimetype": "text/x-python",
   "name": "python",
   "nbconvert_exporter": "python",
   "pygments_lexer": "ipython3",
   "version": "3.10.0"
  }
 },
 "nbformat": 4,
 "nbformat_minor": 2
}
