{
 "cells": [
  {
   "cell_type": "code",
   "execution_count": 16,
   "metadata": {},
   "outputs": [],
   "source": [
    "import pandas as pd\n",
    "from dataclasses import dataclass"
   ]
  },
  {
   "cell_type": "code",
   "execution_count": 17,
   "metadata": {},
   "outputs": [],
   "source": [
    "data_frame = pd.read_csv('data/sst_train_raw.csv')\n",
    "\n",
    "@dataclass\n",
    "class Instance:\n",
    "    text: list[str]\n",
    "    label: str"
   ]
  },
  {
   "cell_type": "code",
   "execution_count": 12,
   "metadata": {},
   "outputs": [
    {
     "name": "stdout",
     "output_type": "stream",
     "text": [
      "[\"whether or not you 're enlightened by any of derrida 's lectures on the other and the self derrida is an undeniably fascinating and playful fellow\"]\n",
      " positive\n"
     ]
    }
   ],
   "source": [
    "features = data_frame.iloc[:, :-1].values\n",
    "labels = data_frame.iloc[:, -1].values\n",
    "print(features[3])\n",
    "print(labels[3])\n",
    "megitext, megi_label=data_frame.iloc[3].values"
   ]
  },
  {
   "cell_type": "code",
   "execution_count": 24,
   "metadata": {},
   "outputs": [
    {
     "name": "stdout",
     "output_type": "stream",
     "text": [
      "['part', 'of', 'the', 'charm', 'of', 'satin', 'rouge', 'is', 'that', 'it', 'avoids', 'the', 'obvious', 'with', 'humour', 'and', 'lightness']\n",
      " positive\n",
      "False\n"
     ]
    }
   ],
   "source": [
    "instances=[Instance(text.split(), label) for text, label in data_frame.values]\n",
    "instance_3 = instances[5]\n",
    "print(instance_3.text)\n",
    "print(instance_3.label)\n",
    "# Referenciramo atribut klase pa se ne zove nadjačana metoda\n",
    "mylist=[1,2,3,4]\n",
    "print(isinstance('756', list))"
   ]
  }
 ],
 "metadata": {
  "kernelspec": {
   "display_name": "Python 3",
   "language": "python",
   "name": "python3"
  },
  "language_info": {
   "codemirror_mode": {
    "name": "ipython",
    "version": 3
   },
   "file_extension": ".py",
   "mimetype": "text/x-python",
   "name": "python",
   "nbconvert_exporter": "python",
   "pygments_lexer": "ipython3",
   "version": "3.10.0"
  }
 },
 "nbformat": 4,
 "nbformat_minor": 2
}
