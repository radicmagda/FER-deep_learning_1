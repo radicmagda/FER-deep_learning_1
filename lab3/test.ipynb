{
 "cells": [
  {
   "cell_type": "code",
   "execution_count": 6,
   "metadata": {},
   "outputs": [],
   "source": [
    "import pandas as pd\n",
    "from dataclasses import dataclass\n",
    "from zad1 import Vocab, Instance, NLPDataset"
   ]
  },
  {
   "cell_type": "code",
   "execution_count": 2,
   "metadata": {},
   "outputs": [],
   "source": [
    "data_frame = pd.read_csv('data/sst_train_raw.csv')"
   ]
  },
  {
   "cell_type": "code",
   "execution_count": 3,
   "metadata": {},
   "outputs": [],
   "source": [
    "text_corpus = data_frame.iloc[:, :-1].values\n",
    "allwords=[]\n",
    "for text in text_corpus:\n",
    "    allwords.extend(text[0].split())\n",
    "alllabels = data_frame.iloc[:, -1].values\n",
    "alllabels=[la.strip() for la in alllabels]"
   ]
  },
  {
   "cell_type": "code",
   "execution_count": 9,
   "metadata": {},
   "outputs": [
    {
     "name": "stdout",
     "output_type": "stream",
     "text": [
      "vocab size:  14803\n",
      "vocab size:  14803\n",
      "['whether', 'or', 'not', 'you', \"'re\", 'enlightened', 'by', 'any', 'of', 'derrida', \"'s\", 'lectures', 'on', 'the', 'other', 'and', 'the', 'self', 'derrida', 'is', 'an', 'undeniably', 'fascinating', 'and', 'playful', 'fellow']\n",
      "['whether', 'or', 'not', 'you', \"'re\", 'enlightened', 'by', 'any', 'of', 'derrida', \"'s\", 'lectures', 'on', 'the', 'other', 'and', 'the', 'self', 'derrida', 'is', 'an', 'undeniably', 'fascinating', 'and', 'playful', 'fellow']\n",
      "tensor([ 477,   42,   27,   21,  125, 9359,   25,   81,    5, 3058,    8, 5967,\n",
      "          24,    2,  120,    4,    2, 6585, 3058,    7,   17, 1368,  233,    4,\n",
      "        1481, 2532])\n",
      "whether\n",
      "or\n",
      "not\n",
      "you\n",
      "'re\n",
      "enlightened\n",
      "by\n",
      "any\n",
      "of\n",
      "derrida\n",
      "'s\n",
      "lectures\n",
      "on\n",
      "the\n",
      "other\n",
      "and\n",
      "the\n",
      "self\n",
      "derrida\n",
      "is\n",
      "an\n",
      "undeniably\n",
      "fascinating\n",
      "and\n",
      "playful\n",
      "fellow\n",
      "['<UNK>', '<UNK>', '<UNK>', '<UNK>']\n",
      "tensor([1, 1, 1, 1])\n"
     ]
    }
   ],
   "source": [
    "textvocab=Vocab(allwords)\n",
    "print(\"vocab size: \", len(textvocab.itos))\n",
    "print(\"vocab size: \", len(textvocab.stoi))\n",
    "sent=text_corpus[3][0].split()\n",
    "print(sent)\n",
    "encoded=textvocab.encode(sent)\n",
    "print(encoded)\n",
    "for code in encoded:\n",
    "    print(textvocab.itos[float(code)])\n",
    "\n",
    "hrvlist=['magdetina', 'nekehrvatske', 'rijeci', 'znjznj']\n",
    "hrvencoded=textvocab.encode(hrvlist)\n",
    "print(hrvencoded)\n",
    "for code in encoded:\n",
    "    print(textvocab.itos[float(code)])\n"
   ]
  },
  {
   "cell_type": "code",
   "execution_count": 55,
   "metadata": {},
   "outputs": [
    {
     "name": "stdout",
     "output_type": "stream",
     "text": [
      "{'positive': 2, 'negative': 3}\n",
      "{2: 'positive', 3: 'negative'}\n",
      "tensor(2)\n"
     ]
    }
   ],
   "source": [
    "labelsvocab=Vocab(alllabels, usespecialsigns=False)\n",
    "print(labelsvocab.stoi)\n",
    "print(labelsvocab.itos)\n",
    "print(labelsvocab.encode('positive'))"
   ]
  },
  {
   "cell_type": "code",
   "execution_count": 12,
   "metadata": {},
   "outputs": [
    {
     "name": "stdout",
     "output_type": "stream",
     "text": [
      "[\"whether or not you 're enlightened by any of derrida 's lectures on the other and the self derrida is an undeniably fascinating and playful fellow\"]\n",
      " positive\n"
     ]
    }
   ],
   "source": [
    "features = data_frame.iloc[:, :-1].values\n",
    "labels = data_frame.iloc[:, -1].values\n",
    "print(features[3])\n",
    "print(labels[3])\n",
    "megitext, megi_label=data_frame.iloc[3].values"
   ]
  },
  {
   "cell_type": "code",
   "execution_count": 24,
   "metadata": {},
   "outputs": [
    {
     "name": "stdout",
     "output_type": "stream",
     "text": [
      "['part', 'of', 'the', 'charm', 'of', 'satin', 'rouge', 'is', 'that', 'it', 'avoids', 'the', 'obvious', 'with', 'humour', 'and', 'lightness']\n",
      " positive\n",
      "False\n"
     ]
    }
   ],
   "source": [
    "instances=[Instance(text.split(), label) for text, label in data_frame.values]\n",
    "instance_3 = instances[5]\n",
    "print(instance_3.text)\n",
    "print(instance_3.label)\n",
    "# Referenciramo atribut klase pa se ne zove nadjačana metoda\n",
    "mylist=[1,2,3,4]\n",
    "print(isinstance('756', list))"
   ]
  }
 ],
 "metadata": {
  "kernelspec": {
   "display_name": "Python 3",
   "language": "python",
   "name": "python3"
  },
  "language_info": {
   "codemirror_mode": {
    "name": "ipython",
    "version": 3
   },
   "file_extension": ".py",
   "mimetype": "text/x-python",
   "name": "python",
   "nbconvert_exporter": "python",
   "pygments_lexer": "ipython3",
   "version": "3.10.0"
  }
 },
 "nbformat": 4,
 "nbformat_minor": 2
}
