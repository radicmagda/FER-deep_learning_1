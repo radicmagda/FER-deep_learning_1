{
 "cells": [
  {
   "cell_type": "code",
   "execution_count": 7,
   "metadata": {},
   "outputs": [],
   "source": [
    "from torch.utils.data import DataLoader, TensorDataset\n",
    "import torch"
   ]
  },
  {
   "cell_type": "code",
   "execution_count": 13,
   "metadata": {},
   "outputs": [
    {
     "name": "stdout",
     "output_type": "stream",
     "text": [
      "tensor([[ 0.9859,  0.9643, -1.0218],\n",
      "        [ 1.3454, -0.8773, -1.0098],\n",
      "        [ 0.3094,  0.2441,  0.3179],\n",
      "        [ 1.6770,  1.0820,  1.7120],\n",
      "        [-0.4294,  0.2896, -0.1637],\n",
      "        [ 0.6447, -0.9398,  2.3291],\n",
      "        [-0.4442, -0.4888, -1.6376],\n",
      "        [ 1.9886, -1.7159, -0.9858],\n",
      "        [-0.6345,  1.3975,  0.8271],\n",
      "        [ 0.0302, -0.5202, -0.1049]])\n",
      "tensor([0, 1, 1, 0, 1, 1, 1, 0, 1, 1])\n"
     ]
    }
   ],
   "source": [
    "# Example dataset\n",
    "x = torch.randn(100, 3)  # 100 samples, each with 3 features\n",
    "y = torch.randint(0, 2, (100,))  # 100 labels, binary classification\n",
    "\n",
    "dataset = TensorDataset(x, y)\n",
    "train_loaderb = DataLoader(dataset, batch_size=10, shuffle=True)\n",
    "data_batch, lables_batch = next(iter(train_loaderb))\n",
    "print(data_batch)\n",
    "print(lables_batch)"
   ]
  },
  {
   "cell_type": "code",
   "execution_count": null,
   "metadata": {},
   "outputs": [],
   "source": []
  },
  {
   "cell_type": "code",
   "execution_count": 1,
   "metadata": {},
   "outputs": [],
   "source": [
    "import pandas as pd\n",
    "from dataclasses import dataclass"
   ]
  },
  {
   "cell_type": "code",
   "execution_count": 14,
   "metadata": {},
   "outputs": [],
   "source": [
    "import zad1\n",
    "import importlib\n",
    "importlib.reload(zad1)\n",
    "from zad1 import *"
   ]
  },
  {
   "cell_type": "code",
   "execution_count": 17,
   "metadata": {},
   "outputs": [
    {
     "name": "stdout",
     "output_type": "stream",
     "text": [
      "originalni batch\n",
      "32\n",
      "(tensor([    2,  3168,  2133,  5249,     5,     2,  4231,     5,     2,  3412,\n",
      "         6917,     7,    40,   850,    10,     3,  5196,     5,   673,    62,\n",
      "           27,  2891,  2114,  5180,  1006,   744,     8,  9485,   575,     5,\n",
      "        10742,  6887,     8, 11387]), tensor(0))\n",
      "Texts shape: torch.Size([32, 44])\n",
      "Texts: tensor([[    2,  3168,  2133,  ...,     0,     0,     0],\n",
      "        [13240,  5064,  2387,  ...,     0,     0,     0],\n",
      "        [  193,     2,   675,  ...,     0,     0,     0],\n",
      "        ...,\n",
      "        [ 4600,    14,   131,  ...,   327,   322,    44],\n",
      "        [   48,     8,    17,  ...,     0,     0,     0],\n",
      "        [   61,     5,     9,  ...,     0,     0,     0]])\n",
      "Labels: tensor([0, 0, 0, 0, 0, 0, 0, 0, 0, 0, 0, 0, 0, 0, 0, 0, 0, 0, 0, 0, 0, 1, 0, 0,\n",
      "        0, 0, 0, 0, 0, 0, 0, 0])\n",
      "Lengths: tensor([34, 33,  7, 26, 21, 17,  7,  4, 12,  6, 12, 22, 22,  6, 13,  5, 11, 15,\n",
      "         4, 11, 26,  6, 14, 36, 12, 12, 27, 15,  6, 44,  9, 13])\n"
     ]
    }
   ],
   "source": [
    "df = pd.read_csv('data/sst_train_raw.csv')\n",
    "text_corpus = df.iloc[:, :-1].values\n",
    "all_words=[]\n",
    "for text in text_corpus:\n",
    "    all_words.extend(text[0].split())\n",
    "all_labels = df.iloc[:, -1].values\n",
    "all_labels=[la.strip() for la in all_labels]\n",
    "\n",
    "#intitialize text vocabulary and labels vocabulary, based on TRAIN data\n",
    "text_vocab=Vocab(corpus=all_words)\n",
    "labels_vocab=Vocab(corpus=all_labels, usespecialsigns=False)\n",
    "\n",
    "#intialize the NLPDatasets for train test and valid\n",
    "train_dataset = NLPDataset(csv_file='data/sst_train_raw.csv', text_vocab=text_vocab, label_vocab=labels_vocab)\n",
    "#test_dataset = NLPDataset(csv_file=TEST_PATH, text_vocab=text_vocab, label_vocab=labels_vocab)\n",
    "#valid_dataset = NLPDataset(csv_file=VALID_PATH, text_vocab=text_vocab, label_vocab=labels_vocab)\n",
    "\n",
    "    #create data loaders\n",
    "train_loader = DataLoader(train_dataset, batch_size=32, shuffle=False, collate_fn=pad_collate_fn)\n",
    "#valid_loader = DataLoader(valid_dataset, batch_size=32, shuffle=False, collate_fn=pad_collate_fn)\n",
    "\n",
    "#test_loader = DataLoader(test_dataset, batch_size=32, shuffle=False, collate_fn=pad_collate_fn)\n",
    "\n",
    "texts, labels, lengths = next(iter(train_loader))\n",
    "print(f\"Texts shape: {texts.shape}\")\n",
    "print(f\"Texts: {texts}\")\n",
    "print(f\"Labels: {labels}\")\n",
    "print(f\"Lengths: {lengths}\")"
   ]
  },
  {
   "cell_type": "code",
   "execution_count": 3,
   "metadata": {},
   "outputs": [],
   "source": [
    "data_frame = pd.read_csv('data/sst_train_raw.csv')"
   ]
  },
  {
   "cell_type": "code",
   "execution_count": 4,
   "metadata": {},
   "outputs": [],
   "source": [
    "text_corpus = data_frame.iloc[:, :-1].values\n",
    "allwords=[]\n",
    "for text in text_corpus:\n",
    "    allwords.extend(text[0].split())\n",
    "alllabels = data_frame.iloc[:, -1].values\n",
    "alllabels=[la.strip() for la in alllabels]"
   ]
  }
 ],
 "metadata": {
  "kernelspec": {
   "display_name": "Python 3",
   "language": "python",
   "name": "python3"
  },
  "language_info": {
   "codemirror_mode": {
    "name": "ipython",
    "version": 3
   },
   "file_extension": ".py",
   "mimetype": "text/x-python",
   "name": "python",
   "nbconvert_exporter": "python",
   "pygments_lexer": "ipython3",
   "version": "3.10.0"
  }
 },
 "nbformat": 4,
 "nbformat_minor": 2
}
