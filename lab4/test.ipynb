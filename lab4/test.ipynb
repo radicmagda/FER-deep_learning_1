{
 "cells": [
  {
   "cell_type": "code",
   "execution_count": 8,
   "metadata": {},
   "outputs": [],
   "source": [
    "from torch.utils.data import Dataset\n",
    "from collections import defaultdict\n",
    "from random import choice\n",
    "import torchvision\n",
    "import numpy as np\n",
    "import matplotlib.pyplot as plt"
   ]
  },
  {
   "cell_type": "code",
   "execution_count": 26,
   "metadata": {},
   "outputs": [],
   "source": [
    "class MNISTMetricDataset(Dataset):\n",
    "    def __init__(self, root=\"/tmp/mnist/\", split='train'):\n",
    "        super().__init__()\n",
    "        assert split in ['train', 'test', 'traineval']\n",
    "        self.root = root\n",
    "        self.split = split\n",
    "        mnist_ds = torchvision.datasets.MNIST(self.root, train='train' in split, download=True)\n",
    "        self.images, self.targets = mnist_ds.data.float() / 255., mnist_ds.targets\n",
    "        self.classes = list(range(10))\n",
    "\n",
    "        self.target2indices = defaultdict(list)\n",
    "        for i in range(len(self.images)):\n",
    "            self.target2indices[self.targets[i].item()] += [i]\n",
    "\n",
    "    def _sample_negative(self, index):\n",
    "        # YOUR CODE HERE\n",
    "        \"\"\"\n",
    "        returns index of a random negative example\n",
    "        \"\"\"\n",
    "        target=self.targets[index].item()\n",
    "        negative_indices=[]\n",
    "        t2i=self.target2indices\n",
    "        for key in t2i.keys():\n",
    "            if key!=target:\n",
    "                negative_indices.extend(t2i[key])\n",
    "        return choice(negative_indices)\n",
    "\n",
    "\n",
    "    def _sample_positive(self, index):\n",
    "        # YOUR CODE HERE\n",
    "        \"\"\"\n",
    "        returns index of a random positive example\n",
    "        \"\"\"\n",
    "        target=self.targets[index].item()\n",
    "        positive_indices=self.target2indices[target]\n",
    "        return choice(positive_indices)\n",
    "\n",
    "\n",
    "    def __getitem__(self, index):\n",
    "        anchor = self.images[index].unsqueeze(0)\n",
    "        target_id = self.targets[index].item()\n",
    "        if self.split in ['traineval', 'val', 'test']:\n",
    "            return anchor, target_id\n",
    "        else:\n",
    "            positive = self._sample_positive(index)\n",
    "            negative = self._sample_negative(index)\n",
    "            positive = self.images[positive]\n",
    "            negative = self.images[negative]\n",
    "            return anchor, positive.unsqueeze(0), negative.unsqueeze(0), target_id"
   ]
  },
  {
   "cell_type": "code",
   "execution_count": 27,
   "metadata": {},
   "outputs": [],
   "source": [
    "mnist=MNISTMetricDataset()"
   ]
  },
  {
   "cell_type": "code",
   "execution_count": 42,
   "metadata": {},
   "outputs": [
    {
     "name": "stdout",
     "output_type": "stream",
     "text": [
      "dict_keys([5, 0, 4, 1, 9, 2, 3, 6, 7, 8])\n"
     ]
    }
   ],
   "source": [
    "imgs=mnist.images\n",
    "tar=mnist.targets\n",
    "cl=mnist.classes\n",
    "t2i=mnist.target2indices\n",
    "\n",
    "t2i_3=t2i[3]\n",
    "trice=imgs[t2i_3]\n",
    "\n",
    "t2i_ne_3=[]\n",
    "print(t2i.keys())"
   ]
  },
  {
   "cell_type": "code",
   "execution_count": 41,
   "metadata": {},
   "outputs": [
    {
     "data": {
      "image/png": "[encoded data removed]",
      "text/plain": [
       "<Figure size 432x288 with 1 Axes>"
      ]
     },
     "metadata": {
      "needs_background": "light"
     },
     "output_type": "display_data"
    },
    {
     "data": {
      "image/png": "[encoded data removed]",
      "text/plain": [
       "<Figure size 432x288 with 1 Axes>"
      ]
     },
     "metadata": {
      "needs_background": "light"
     },
     "output_type": "display_data"
    },
    {
     "data": {
      "image/png": "[encoded data removed]",
      "text/plain": [
       "<Figure size 432x288 with 1 Axes>"
      ]
     },
     "metadata": {
      "needs_background": "light"
     },
     "output_type": "display_data"
    },
    {
     "name": "stdout",
     "output_type": "stream",
     "text": [
      "2\n"
     ]
    }
   ],
   "source": [
    "a,pos, neg, target=mnist[5]\n",
    "plt.imshow(a.squeeze())\n",
    "plt.show()\n",
    "plt.imshow(pos.squeeze())\n",
    "plt.show()\n",
    "plt.imshow(neg.squeeze())\n",
    "plt.show()\n",
    "print(target)\n"
   ]
  }
 ],
 "metadata": {
  "kernelspec": {
   "display_name": "Python 3",
   "language": "python",
   "name": "python3"
  },
  "language_info": {
   "codemirror_mode": {
    "name": "ipython",
    "version": 3
   },
   "file_extension": ".py",
   "mimetype": "text/x-python",
   "name": "python",
   "nbconvert_exporter": "python",
   "pygments_lexer": "ipython3",
   "version": "3.10.0"
  }
 },
 "nbformat": 4,
 "nbformat_minor": 2
}
