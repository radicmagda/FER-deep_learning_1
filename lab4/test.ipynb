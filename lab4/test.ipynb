{
 "cells": [
  {
   "cell_type": "code",
   "execution_count": 1,
   "metadata": {},
   "outputs": [],
   "source": [
    "from torch.utils.data import Dataset\n",
    "from collections import defaultdict\n",
    "from random import choice\n",
    "import torchvision\n",
    "import numpy as np\n",
    "import matplotlib.pyplot as plt"
   ]
  },
  {
   "cell_type": "code",
   "execution_count": 21,
   "metadata": {},
   "outputs": [],
   "source": [
    "import torch\n",
    "import torch.nn as nn\n",
    "import torch.nn.functional as F\n",
    "\n",
    "\n",
    "class _BNReluConv(nn.Sequential):\n",
    "    def __init__(self, num_maps_in, num_maps_out, k=3, bias=True):\n",
    "        super(_BNReluConv, self).__init__()\n",
    "        self.append(torch.nn.BatchNorm2d(num_maps_in, affine=bias))\n",
    "        self.append(torch.nn.ReLU())\n",
    "        self.append(torch.nn.Conv2d(num_maps_in, num_maps_out, kernel_size=k))\n",
    "\n",
    "\n",
    "class SimpleMetricEmbedding(nn.Module):\n",
    "    def __init__(self, input_channels, emb_size=32):\n",
    "        super().__init__()\n",
    "        self.emb_size = emb_size\n",
    "        self.block_1 = _BNReluConv(input_channels, emb_size)\n",
    "        self.maxpool_1 = torch.nn.MaxPool2d(kernel_size=3, stride=2)\n",
    "        self.block_2 = _BNReluConv(emb_size, emb_size)\n",
    "        self.maxpool_2 = torch.nn.MaxPool2d(kernel_size=3, stride=2)\n",
    "        self.block_3 = _BNReluConv(emb_size, emb_size)\n",
    "        self.avg_global = nn.AvgPool2d(kernel_size=2)\n",
    "        self.margin = 1\n",
    "\n",
    "    def get_features(self, img: torch.Tensor):\n",
    "        x = self.block_1(img)\n",
    "        x = self.maxpool_1(x)\n",
    "        x = self.block_2(x)\n",
    "        x = self.maxpool_2(x)\n",
    "        x = self.block_3(x)\n",
    "        x = self.avg_global(x)\n",
    "       # x = x.reshape((img.size(dim=0), self.emb_size))\n",
    "        x=x.squeeze()\n",
    "        return x\n",
    "\n",
    "    def loss(self, anchor, positive, negative):\n",
    "        a_x = self.get_features(anchor)\n",
    "        p_x = self.get_features(positive)\n",
    "        n_x = self.get_features(negative)\n",
    "        distance_positive = F.pairwise_distance(a_x, p_x, p=2)\n",
    "        distance_negative = F.pairwise_distance(a_x, n_x, p=2)\n",
    "        loss = torch.maximum(torch.tensor(0), distance_positive - distance_negative + self.margin)\n",
    "        loss = torch.mean(loss)\n",
    "        return loss\n"
   ]
  },
  {
   "cell_type": "code",
   "execution_count": 3,
   "metadata": {},
   "outputs": [],
   "source": [
    "class MNISTMetricDataset(Dataset):\n",
    "    def __init__(self, root=\"/tmp/mnist/\", split='train'):\n",
    "        super().__init__()\n",
    "        assert split in ['train', 'test', 'traineval']\n",
    "        self.root = root\n",
    "        self.split = split\n",
    "        mnist_ds = torchvision.datasets.MNIST(self.root, train='train' in split, download=True)\n",
    "        self.images, self.targets = mnist_ds.data.float() / 255., mnist_ds.targets\n",
    "        self.classes = list(range(10))\n",
    "\n",
    "        self.target2indices = defaultdict(list)\n",
    "        for i in range(len(self.images)):\n",
    "            self.target2indices[self.targets[i].item()] += [i]\n",
    "\n",
    "    def _sample_negative(self, index):\n",
    "        # YOUR CODE HERE\n",
    "        \"\"\"\n",
    "        returns index of a random negative example\n",
    "        \"\"\"\n",
    "        target=self.targets[index].item()\n",
    "        negative_indices=[]\n",
    "        t2i=self.target2indices\n",
    "        for key in t2i.keys():\n",
    "            if key!=target:\n",
    "                negative_indices.extend(t2i[key])\n",
    "        return choice(negative_indices)\n",
    "\n",
    "\n",
    "    def _sample_positive(self, index):\n",
    "        # YOUR CODE HERE\n",
    "        \"\"\"\n",
    "        returns index of a random positive example\n",
    "        \"\"\"\n",
    "        target=self.targets[index].item()\n",
    "        positive_indices=self.target2indices[target]\n",
    "        return choice(positive_indices)\n",
    "\n",
    "\n",
    "    def __getitem__(self, index):\n",
    "        anchor = self.images[index].unsqueeze(0)\n",
    "        target_id = self.targets[index].item()\n",
    "        if self.split in ['traineval', 'val', 'test']:\n",
    "            return anchor, target_id\n",
    "        else:\n",
    "            positive = self._sample_positive(index)\n",
    "            negative = self._sample_negative(index)\n",
    "            positive = self.images[positive]\n",
    "            negative = self.images[negative]\n",
    "            return anchor, positive.unsqueeze(0), negative.unsqueeze(0), target_id"
   ]
  },
  {
   "cell_type": "code",
   "execution_count": 4,
   "metadata": {},
   "outputs": [],
   "source": [
    "mnist=MNISTMetricDataset()"
   ]
  },
  {
   "cell_type": "code",
   "execution_count": 5,
   "metadata": {},
   "outputs": [
    {
     "name": "stdout",
     "output_type": "stream",
     "text": [
      "dict_keys([5, 0, 4, 1, 9, 2, 3, 6, 7, 8])\n"
     ]
    }
   ],
   "source": [
    "imgs=mnist.images\n",
    "tar=mnist.targets\n",
    "cl=mnist.classes\n",
    "t2i=mnist.target2indices\n",
    "\n",
    "t2i_3=t2i[3]\n",
    "trice=imgs[t2i_3]\n",
    "\n",
    "t2i_ne_3=[]\n",
    "print(t2i.keys())"
   ]
  },
  {
   "cell_type": "code",
   "execution_count": 22,
   "metadata": {},
   "outputs": [
    {
     "name": "stdout",
     "output_type": "stream",
     "text": [
      "tensor([[ 0.4505, -0.2968, -0.0213, -0.2273,  0.3306, -0.1214,  0.3034, -0.0138,\n",
      "         -0.3429, -0.1332, -0.3731, -0.4377, -0.3464, -0.5909,  0.6982,  0.2655,\n",
      "         -0.0820,  0.2079,  0.1540, -0.1455,  0.3311, -0.0015, -0.0853,  0.3469,\n",
      "         -0.4594,  0.3831, -0.3170,  0.0648, -0.1126,  0.1521,  0.1969, -0.4338],\n",
      "        [ 0.8185,  0.0779, -0.0992, -0.1640,  0.3688,  0.6954,  0.6581, -0.1999,\n",
      "         -0.2572,  0.2811, -0.3901, -0.2150,  0.4417, -0.1089,  0.9031,  0.4165,\n",
      "         -0.5350,  0.1841,  0.2925, -0.1003,  0.5077,  0.0651,  0.2343,  0.2654,\n",
      "         -0.6433,  0.1148, -0.2517,  0.2836, -0.0568,  0.0308, -0.1432, -0.6114],\n",
      "        [ 0.3185,  0.4339, -0.2906, -0.4820,  0.2034, -0.0498,  0.4631, -0.1441,\n",
      "         -0.1549,  0.4255, -0.1236, -0.4192,  0.0322, -0.2747,  0.4720,  0.1620,\n",
      "         -0.3771,  0.4559,  0.1225, -0.2042,  0.3815, -0.1722,  0.3357,  0.3338,\n",
      "         -0.2761,  0.4095,  0.1754, -0.2570,  0.2610, -0.1731,  0.1467, -0.5269],\n",
      "        [ 0.4505, -0.2968, -0.0213, -0.2273,  0.3306, -0.1214,  0.3034, -0.0138,\n",
      "         -0.3429, -0.1332, -0.3731, -0.4377, -0.3464, -0.5909,  0.6982,  0.2655,\n",
      "         -0.0820,  0.2079,  0.1540, -0.1455,  0.3311, -0.0015, -0.0853,  0.3469,\n",
      "         -0.4594,  0.3831, -0.3170,  0.0648, -0.1126,  0.1521,  0.1969, -0.4338],\n",
      "        [ 0.4505, -0.2968, -0.0213, -0.2273,  0.3306, -0.1214,  0.3034, -0.0138,\n",
      "         -0.3429, -0.1332, -0.3731, -0.4377, -0.3464, -0.5909,  0.6982,  0.2655,\n",
      "         -0.0820,  0.2079,  0.1540, -0.1455,  0.3311, -0.0015, -0.0853,  0.3469,\n",
      "         -0.4594,  0.3831, -0.3170,  0.0648, -0.1126,  0.1521,  0.1969, -0.4338],\n",
      "        [ 0.8185,  0.0779, -0.0992, -0.1640,  0.3688,  0.6954,  0.6581, -0.1999,\n",
      "         -0.2572,  0.2811, -0.3901, -0.2150,  0.4417, -0.1089,  0.9031,  0.4165,\n",
      "         -0.5350,  0.1841,  0.2925, -0.1003,  0.5077,  0.0651,  0.2343,  0.2654,\n",
      "         -0.6433,  0.1148, -0.2517,  0.2836, -0.0568,  0.0308, -0.1432, -0.6114]],\n",
      "       grad_fn=<SqueezeBackward0>)\n"
     ]
    }
   ],
   "source": [
    "model=SimpleMetricEmbedding(1, 32)\n",
    "mnist7=mnist[7]\n",
    "a,pos,neg,target=mnist7\n",
    "batch7=torch.stack([a, pos, neg,a,a,pos])\n",
    "res=model.get_features(batch7)\n",
    "print(res)"
   ]
  },
  {
   "cell_type": "code",
   "execution_count": 7,
   "metadata": {},
   "outputs": [
    {
     "data": {
      "image/png": "[encoded data removed]",
      "text/plain": [
       "<Figure size 432x288 with 1 Axes>"
      ]
     },
     "metadata": {
      "needs_background": "light"
     },
     "output_type": "display_data"
    },
    {
     "data": {
      "image/png": "[encoded data removed]",
      "text/plain": [
       "<Figure size 432x288 with 1 Axes>"
      ]
     },
     "metadata": {
      "needs_background": "light"
     },
     "output_type": "display_data"
    },
    {
     "data": {
      "image/png": "[encoded data removed]",
      "text/plain": [
       "<Figure size 432x288 with 1 Axes>"
      ]
     },
     "metadata": {
      "needs_background": "light"
     },
     "output_type": "display_data"
    },
    {
     "name": "stdout",
     "output_type": "stream",
     "text": [
      "2\n"
     ]
    }
   ],
   "source": [
    "a,pos, neg, target=mnist[5]\n",
    "plt.imshow(-1* a.squeeze(), cmap='gray')\n",
    "plt.show()\n",
    "plt.imshow(pos.squeeze())\n",
    "plt.show()\n",
    "plt.imshow(neg.squeeze())\n",
    "plt.show()\n",
    "print(target)\n"
   ]
  }
 ],
 "metadata": {
  "kernelspec": {
   "display_name": "Python 3",
   "language": "python",
   "name": "python3"
  },
  "language_info": {
   "codemirror_mode": {
    "name": "ipython",
    "version": 3
   },
   "file_extension": ".py",
   "mimetype": "text/x-python",
   "name": "python",
   "nbconvert_exporter": "python",
   "pygments_lexer": "ipython3",
   "version": "3.10.0"
  }
 },
 "nbformat": 4,
 "nbformat_minor": 2
}
